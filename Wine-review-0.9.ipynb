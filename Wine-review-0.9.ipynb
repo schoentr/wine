{
 "cells": [
  {
   "cell_type": "code",
   "execution_count": 1,
   "metadata": {},
   "outputs": [],
   "source": [
    "import pandas as pd"
   ]
  },
  {
   "cell_type": "code",
   "execution_count": null,
   "metadata": {},
   "outputs": [],
   "source": []
  },
  {
   "cell_type": "code",
   "execution_count": 2,
   "metadata": {},
   "outputs": [],
   "source": [
    "wine_frame = pd.read_csv('./wine-reviews/wine_data_2.csv')\n",
    "wine_frame =wine_frame.drop_duplicates(subset='title', keep='first', inplace=False)"
   ]
  },
  {
   "cell_type": "code",
   "execution_count": 3,
   "metadata": {},
   "outputs": [
    {
     "data": {
      "text/html": [
       "<div>\n",
       "<style scoped>\n",
       "    .dataframe tbody tr th:only-of-type {\n",
       "        vertical-align: middle;\n",
       "    }\n",
       "\n",
       "    .dataframe tbody tr th {\n",
       "        vertical-align: top;\n",
       "    }\n",
       "\n",
       "    .dataframe thead th {\n",
       "        text-align: right;\n",
       "    }\n",
       "</style>\n",
       "<table border=\"1\" class=\"dataframe\">\n",
       "  <thead>\n",
       "    <tr style=\"text-align: right;\">\n",
       "      <th></th>\n",
       "      <th>Unnamed: 0</th>\n",
       "      <th>country</th>\n",
       "      <th>description</th>\n",
       "      <th>designation</th>\n",
       "      <th>points</th>\n",
       "      <th>price</th>\n",
       "      <th>province</th>\n",
       "      <th>region_1</th>\n",
       "      <th>region_2</th>\n",
       "      <th>taster_name</th>\n",
       "      <th>taster_twitter_handle</th>\n",
       "      <th>title</th>\n",
       "      <th>variety</th>\n",
       "      <th>winery</th>\n",
       "    </tr>\n",
       "  </thead>\n",
       "  <tbody>\n",
       "    <tr>\n",
       "      <th>0</th>\n",
       "      <td>0</td>\n",
       "      <td>Italy</td>\n",
       "      <td>Aromas include tropical fruit, broom, brimston...</td>\n",
       "      <td>Vulkà Bianco</td>\n",
       "      <td>87</td>\n",
       "      <td>NaN</td>\n",
       "      <td>Sicily &amp; Sardinia</td>\n",
       "      <td>Etna</td>\n",
       "      <td>NaN</td>\n",
       "      <td>Kerin O’Keefe</td>\n",
       "      <td>@kerinokeefe</td>\n",
       "      <td>Nicosia 2013 Vulkà Bianco  (Etna)</td>\n",
       "      <td>White Blend</td>\n",
       "      <td>Nicosia</td>\n",
       "    </tr>\n",
       "    <tr>\n",
       "      <th>1</th>\n",
       "      <td>1</td>\n",
       "      <td>Portugal</td>\n",
       "      <td>This is ripe and fruity, a wine that is smooth...</td>\n",
       "      <td>Avidagos</td>\n",
       "      <td>87</td>\n",
       "      <td>15.0</td>\n",
       "      <td>Douro</td>\n",
       "      <td>NaN</td>\n",
       "      <td>NaN</td>\n",
       "      <td>Roger Voss</td>\n",
       "      <td>@vossroger</td>\n",
       "      <td>Quinta dos Avidagos 2011 Avidagos Red (Douro)</td>\n",
       "      <td>Portuguese Red</td>\n",
       "      <td>Quinta dos Avidagos</td>\n",
       "    </tr>\n",
       "    <tr>\n",
       "      <th>2</th>\n",
       "      <td>2</td>\n",
       "      <td>US</td>\n",
       "      <td>Tart and snappy, the flavors of lime flesh and...</td>\n",
       "      <td>NaN</td>\n",
       "      <td>87</td>\n",
       "      <td>14.0</td>\n",
       "      <td>Oregon</td>\n",
       "      <td>Willamette Valley</td>\n",
       "      <td>Willamette Valley</td>\n",
       "      <td>Paul Gregutt</td>\n",
       "      <td>@paulgwine</td>\n",
       "      <td>Rainstorm 2013 Pinot Gris (Willamette Valley)</td>\n",
       "      <td>Pinot Gris</td>\n",
       "      <td>Rainstorm</td>\n",
       "    </tr>\n",
       "    <tr>\n",
       "      <th>3</th>\n",
       "      <td>3</td>\n",
       "      <td>US</td>\n",
       "      <td>Pineapple rind, lemon pith and orange blossom ...</td>\n",
       "      <td>Reserve Late Harvest</td>\n",
       "      <td>87</td>\n",
       "      <td>13.0</td>\n",
       "      <td>Michigan</td>\n",
       "      <td>Lake Michigan Shore</td>\n",
       "      <td>NaN</td>\n",
       "      <td>Alexander Peartree</td>\n",
       "      <td>NaN</td>\n",
       "      <td>St. Julian 2013 Reserve Late Harvest Riesling ...</td>\n",
       "      <td>Riesling</td>\n",
       "      <td>St. Julian</td>\n",
       "    </tr>\n",
       "    <tr>\n",
       "      <th>4</th>\n",
       "      <td>4</td>\n",
       "      <td>US</td>\n",
       "      <td>Much like the regular bottling from 2012, this...</td>\n",
       "      <td>Vintner's Reserve Wild Child Block</td>\n",
       "      <td>87</td>\n",
       "      <td>65.0</td>\n",
       "      <td>Oregon</td>\n",
       "      <td>Willamette Valley</td>\n",
       "      <td>Willamette Valley</td>\n",
       "      <td>Paul Gregutt</td>\n",
       "      <td>@paulgwine</td>\n",
       "      <td>Sweet Cheeks 2012 Vintner's Reserve Wild Child...</td>\n",
       "      <td>Pinot Noir</td>\n",
       "      <td>Sweet Cheeks</td>\n",
       "    </tr>\n",
       "  </tbody>\n",
       "</table>\n",
       "</div>"
      ],
      "text/plain": [
       "   Unnamed: 0   country                                        description  \\\n",
       "0           0     Italy  Aromas include tropical fruit, broom, brimston...   \n",
       "1           1  Portugal  This is ripe and fruity, a wine that is smooth...   \n",
       "2           2        US  Tart and snappy, the flavors of lime flesh and...   \n",
       "3           3        US  Pineapple rind, lemon pith and orange blossom ...   \n",
       "4           4        US  Much like the regular bottling from 2012, this...   \n",
       "\n",
       "                          designation  points  price           province  \\\n",
       "0                        Vulkà Bianco      87    NaN  Sicily & Sardinia   \n",
       "1                            Avidagos      87   15.0              Douro   \n",
       "2                                 NaN      87   14.0             Oregon   \n",
       "3                Reserve Late Harvest      87   13.0           Michigan   \n",
       "4  Vintner's Reserve Wild Child Block      87   65.0             Oregon   \n",
       "\n",
       "              region_1           region_2         taster_name  \\\n",
       "0                 Etna                NaN       Kerin O’Keefe   \n",
       "1                  NaN                NaN          Roger Voss   \n",
       "2    Willamette Valley  Willamette Valley        Paul Gregutt   \n",
       "3  Lake Michigan Shore                NaN  Alexander Peartree   \n",
       "4    Willamette Valley  Willamette Valley        Paul Gregutt   \n",
       "\n",
       "  taster_twitter_handle                                              title  \\\n",
       "0          @kerinokeefe                  Nicosia 2013 Vulkà Bianco  (Etna)   \n",
       "1            @vossroger      Quinta dos Avidagos 2011 Avidagos Red (Douro)   \n",
       "2           @paulgwine       Rainstorm 2013 Pinot Gris (Willamette Valley)   \n",
       "3                   NaN  St. Julian 2013 Reserve Late Harvest Riesling ...   \n",
       "4           @paulgwine   Sweet Cheeks 2012 Vintner's Reserve Wild Child...   \n",
       "\n",
       "          variety               winery  \n",
       "0     White Blend              Nicosia  \n",
       "1  Portuguese Red  Quinta dos Avidagos  \n",
       "2      Pinot Gris            Rainstorm  \n",
       "3        Riesling           St. Julian  \n",
       "4      Pinot Noir         Sweet Cheeks  "
      ]
     },
     "execution_count": 3,
     "metadata": {},
     "output_type": "execute_result"
    }
   ],
   "source": [
    "# Seeing what shape the data is in.\n",
    "wine_frame[:5]"
   ]
  },
  {
   "cell_type": "code",
   "execution_count": 4,
   "metadata": {},
   "outputs": [],
   "source": [
    "# Create a slice that only Contains Califorina Cabernet Savignon\n",
    "cali_cab =wine_frame[ wine_frame.province == 'California']\n",
    "cali_cab =cali_cab[cali_cab.variety =='Cabernet Sauvignon']"
   ]
  },
  {
   "cell_type": "code",
   "execution_count": 5,
   "metadata": {},
   "outputs": [
    {
     "data": {
      "text/plain": [
       "5317"
      ]
     },
     "execution_count": 5,
     "metadata": {},
     "output_type": "execute_result"
    }
   ],
   "source": [
    "#How many Califorina Cabernet are in the Data Set\n",
    "cali_cab_count=cali_cab.country.count()\n",
    "cali_cab_count "
   ]
  },
  {
   "cell_type": "code",
   "execution_count": 6,
   "metadata": {},
   "outputs": [
    {
     "data": {
      "text/plain": [
       "89.1002444987775"
      ]
     },
     "execution_count": 6,
     "metadata": {},
     "output_type": "execute_result"
    }
   ],
   "source": [
    "# What is the average rating?\n",
    "cali_cab.points.mean()"
   ]
  },
  {
   "cell_type": "code",
   "execution_count": 7,
   "metadata": {},
   "outputs": [
    {
     "data": {
      "text/plain": [
       "59.60343525858815"
      ]
     },
     "execution_count": 7,
     "metadata": {},
     "output_type": "execute_result"
    }
   ],
   "source": [
    "# What is the average price?\n",
    "cali_cab.price.mean()"
   ]
  },
  {
   "cell_type": "code",
   "execution_count": 8,
   "metadata": {},
   "outputs": [],
   "source": [
    "tim =\"timothy\""
   ]
  },
  {
   "cell_type": "markdown",
   "metadata": {},
   "source": [
    " There are {{tim}} California Cabs in our data set."
   ]
  },
  {
   "cell_type": "markdown",
   "metadata": {},
   "source": [
    "### There are a total of 7452 Californa Cab in our data set, with an average rating of 88.49 and and Average Price of $52.39"
   ]
  },
  {
   "cell_type": "code",
   "execution_count": 9,
   "metadata": {},
   "outputs": [
    {
     "data": {
      "text/plain": [
       "[(90, 59.7845220030349, 659),\n",
       " (91, 66.53225806451613, 496),\n",
       " (92, 75.64326375711575, 527),\n",
       " (93, 83.78588807785889, 411),\n",
       " (94, 109.69040247678019, 323),\n",
       " (95, 114.86428571428571, 140),\n",
       " (96, 139.33333333333334, 51),\n",
       " (97, 170.9090909090909, 22),\n",
       " (98, 239.5, 10),\n",
       " (99, 156.25, 4),\n",
       " (100, 200.0, 1)]"
      ]
     },
     "execution_count": 9,
     "metadata": {},
     "output_type": "execute_result"
    }
   ],
   "source": [
    "# For every California Cab in the Data set, \n",
    "# Returns the Rating,\n",
    "# returns the average price based on Rating, \n",
    "# along with the total number of wines with that rating\n",
    "\n",
    "cali_cab_above_90_avg = []\n",
    "for x in range (90,101):\n",
    "    cali_cab_above_90 =cali_cab[cali_cab.points == x]\n",
    "    cali_cab_above_90_avg.append((x,cali_cab_above_90.price.mean(),cali_cab_above_90.price.count()))\n",
    "    \n",
    "cali_cab_above_90_avg   "
   ]
  },
  {
   "cell_type": "code",
   "execution_count": 10,
   "metadata": {},
   "outputs": [
    {
     "data": {
      "text/html": [
       "<div>\n",
       "<style scoped>\n",
       "    .dataframe tbody tr th:only-of-type {\n",
       "        vertical-align: middle;\n",
       "    }\n",
       "\n",
       "    .dataframe tbody tr th {\n",
       "        vertical-align: top;\n",
       "    }\n",
       "\n",
       "    .dataframe thead th {\n",
       "        text-align: right;\n",
       "    }\n",
       "</style>\n",
       "<table border=\"1\" class=\"dataframe\">\n",
       "  <thead>\n",
       "    <tr style=\"text-align: right;\">\n",
       "      <th></th>\n",
       "      <th>title</th>\n",
       "      <th>price</th>\n",
       "      <th>points</th>\n",
       "    </tr>\n",
       "  </thead>\n",
       "  <tbody>\n",
       "    <tr>\n",
       "      <th>128268</th>\n",
       "      <td>Trefethen 2005 Estate Cabernet Sauvignon (Oak ...</td>\n",
       "      <td>50.0</td>\n",
       "      <td>97</td>\n",
       "    </tr>\n",
       "    <tr>\n",
       "      <th>128270</th>\n",
       "      <td>Redmon 2006 Cabernet Sauvignon (St. Helena)</td>\n",
       "      <td>65.0</td>\n",
       "      <td>97</td>\n",
       "    </tr>\n",
       "    <tr>\n",
       "      <th>82752</th>\n",
       "      <td>Krutz 2006 Stagecoach Vineyard Cabernet Sauvig...</td>\n",
       "      <td>70.0</td>\n",
       "      <td>97</td>\n",
       "    </tr>\n",
       "    <tr>\n",
       "      <th>121886</th>\n",
       "      <td>Von Strasser 2009 Estate Vineyard Cabernet Sau...</td>\n",
       "      <td>70.0</td>\n",
       "      <td>98</td>\n",
       "    </tr>\n",
       "    <tr>\n",
       "      <th>81898</th>\n",
       "      <td>Stonestreet 2007 Black Cougar Ridge Cabernet S...</td>\n",
       "      <td>75.0</td>\n",
       "      <td>97</td>\n",
       "    </tr>\n",
       "    <tr>\n",
       "      <th>39289</th>\n",
       "      <td>Vine Cliff 2007 Cabernet Sauvignon (Oakville)</td>\n",
       "      <td>75.0</td>\n",
       "      <td>98</td>\n",
       "    </tr>\n",
       "    <tr>\n",
       "      <th>81901</th>\n",
       "      <td>Black Coyote 2007 Reserve Cabernet Sauvignon (...</td>\n",
       "      <td>85.0</td>\n",
       "      <td>97</td>\n",
       "    </tr>\n",
       "    <tr>\n",
       "      <th>45800</th>\n",
       "      <td>Napa Angel 2006 by Montes Aurelio's Selection ...</td>\n",
       "      <td>90.0</td>\n",
       "      <td>97</td>\n",
       "    </tr>\n",
       "    <tr>\n",
       "      <th>128265</th>\n",
       "      <td>Trefethen 2005 Reserve Cabernet Sauvignon (Oak...</td>\n",
       "      <td>100.0</td>\n",
       "      <td>99</td>\n",
       "    </tr>\n",
       "    <tr>\n",
       "      <th>82816</th>\n",
       "      <td>Kathryn Kennedy 2012 Estate Cabernet Sauvignon...</td>\n",
       "      <td>100.0</td>\n",
       "      <td>97</td>\n",
       "    </tr>\n",
       "    <tr>\n",
       "      <th>128269</th>\n",
       "      <td>Hestan 2006 Cabernet Sauvignon (Napa Valley)</td>\n",
       "      <td>100.0</td>\n",
       "      <td>97</td>\n",
       "    </tr>\n",
       "    <tr>\n",
       "      <th>107901</th>\n",
       "      <td>Venge 2008 Family Reserve Cabernet Sauvignon (...</td>\n",
       "      <td>125.0</td>\n",
       "      <td>99</td>\n",
       "    </tr>\n",
       "    <tr>\n",
       "      <th>117027</th>\n",
       "      <td>Caymus 2009 Special Selection Cabernet Sauvign...</td>\n",
       "      <td>130.0</td>\n",
       "      <td>97</td>\n",
       "    </tr>\n",
       "    <tr>\n",
       "      <th>125832</th>\n",
       "      <td>Janzen 2009 Beckstoffer To Kalon Vineyard Cabe...</td>\n",
       "      <td>135.0</td>\n",
       "      <td>97</td>\n",
       "    </tr>\n",
       "    <tr>\n",
       "      <th>121885</th>\n",
       "      <td>David Arthur 2009 Elevation 1147 Estate Cabern...</td>\n",
       "      <td>150.0</td>\n",
       "      <td>99</td>\n",
       "    </tr>\n",
       "    <tr>\n",
       "      <th>118060</th>\n",
       "      <td>Goldschmidt 2006 Plus Game Ranch Single Vineya...</td>\n",
       "      <td>150.0</td>\n",
       "      <td>98</td>\n",
       "    </tr>\n",
       "    <tr>\n",
       "      <th>117141</th>\n",
       "      <td>Marita's Vineyard 2007 Select Private Reserve ...</td>\n",
       "      <td>150.0</td>\n",
       "      <td>97</td>\n",
       "    </tr>\n",
       "    <tr>\n",
       "      <th>1565</th>\n",
       "      <td>JCB 2009 No. 1 Cabernet Sauvignon (Napa Valley)</td>\n",
       "      <td>150.0</td>\n",
       "      <td>97</td>\n",
       "    </tr>\n",
       "    <tr>\n",
       "      <th>39290</th>\n",
       "      <td>Vine Cliff 2007 16 Rows Cabernet Sauvignon (Oa...</td>\n",
       "      <td>150.0</td>\n",
       "      <td>97</td>\n",
       "    </tr>\n",
       "    <tr>\n",
       "      <th>109839</th>\n",
       "      <td>Macauley 2013 Beckstoffer To Kalon Vineyard Ca...</td>\n",
       "      <td>175.0</td>\n",
       "      <td>97</td>\n",
       "    </tr>\n",
       "    <tr>\n",
       "      <th>109837</th>\n",
       "      <td>Spottswoode 2013 Family Estate Grown Cabernet ...</td>\n",
       "      <td>185.0</td>\n",
       "      <td>98</td>\n",
       "    </tr>\n",
       "    <tr>\n",
       "      <th>121889</th>\n",
       "      <td>Gandona 2009 Cabernet Sauvignon (Napa Valley)</td>\n",
       "      <td>190.0</td>\n",
       "      <td>97</td>\n",
       "    </tr>\n",
       "    <tr>\n",
       "      <th>122559</th>\n",
       "      <td>Stag's Leap Wine Cellars 2008 Cask 23 Estate C...</td>\n",
       "      <td>195.0</td>\n",
       "      <td>97</td>\n",
       "    </tr>\n",
       "    <tr>\n",
       "      <th>45798</th>\n",
       "      <td>Cardinale 2006 Cabernet Sauvignon (Napa Valley)</td>\n",
       "      <td>200.0</td>\n",
       "      <td>100</td>\n",
       "    </tr>\n",
       "    <tr>\n",
       "      <th>122558</th>\n",
       "      <td>Shafer 2007 Hillside Select Cabernet Sauvignon...</td>\n",
       "      <td>225.0</td>\n",
       "      <td>97</td>\n",
       "    </tr>\n",
       "    <tr>\n",
       "      <th>127372</th>\n",
       "      <td>Au Sommet 2008 Cabernet Sauvignon (Atlas Peak)</td>\n",
       "      <td>250.0</td>\n",
       "      <td>97</td>\n",
       "    </tr>\n",
       "    <tr>\n",
       "      <th>116141</th>\n",
       "      <td>Alpha Omega 2012 Stagecoach Vineyard Cabernet ...</td>\n",
       "      <td>250.0</td>\n",
       "      <td>99</td>\n",
       "    </tr>\n",
       "    <tr>\n",
       "      <th>116142</th>\n",
       "      <td>Alpha Omega 2012 Beckstoffer Las Piedras Caber...</td>\n",
       "      <td>250.0</td>\n",
       "      <td>98</td>\n",
       "    </tr>\n",
       "    <tr>\n",
       "      <th>109228</th>\n",
       "      <td>Cardinale 2008 Cabernet Sauvignon (Napa Valley)</td>\n",
       "      <td>250.0</td>\n",
       "      <td>97</td>\n",
       "    </tr>\n",
       "    <tr>\n",
       "      <th>116146</th>\n",
       "      <td>Alpha Omega 2012 Beckstoffer Georges III Caber...</td>\n",
       "      <td>250.0</td>\n",
       "      <td>97</td>\n",
       "    </tr>\n",
       "    <tr>\n",
       "      <th>116145</th>\n",
       "      <td>Alpha Omega 2012 Beckstoffer To Kalon Cabernet...</td>\n",
       "      <td>250.0</td>\n",
       "      <td>97</td>\n",
       "    </tr>\n",
       "    <tr>\n",
       "      <th>116144</th>\n",
       "      <td>Alpha Omega 2012 Beckstoffer Dr. Crane Caberne...</td>\n",
       "      <td>250.0</td>\n",
       "      <td>98</td>\n",
       "    </tr>\n",
       "    <tr>\n",
       "      <th>116143</th>\n",
       "      <td>Alpha Omega 2012 Beckstoffer Missouri Hopper C...</td>\n",
       "      <td>250.0</td>\n",
       "      <td>98</td>\n",
       "    </tr>\n",
       "    <tr>\n",
       "      <th>27592</th>\n",
       "      <td>Shafer 2012 Hillside Select Cabernet Sauvignon...</td>\n",
       "      <td>265.0</td>\n",
       "      <td>98</td>\n",
       "    </tr>\n",
       "    <tr>\n",
       "      <th>41837</th>\n",
       "      <td>Araujo 2007 Eisele Cabernet Sauvignon (Napa Va...</td>\n",
       "      <td>275.0</td>\n",
       "      <td>98</td>\n",
       "    </tr>\n",
       "    <tr>\n",
       "      <th>38978</th>\n",
       "      <td>Yao Ming 2010 Family Reserve Cabernet Sauvigno...</td>\n",
       "      <td>625.0</td>\n",
       "      <td>98</td>\n",
       "    </tr>\n",
       "    <tr>\n",
       "      <th>83852</th>\n",
       "      <td>Yao Ming 2009 Family Reserve Cabernet Sauvigno...</td>\n",
       "      <td>625.0</td>\n",
       "      <td>97</td>\n",
       "    </tr>\n",
       "  </tbody>\n",
       "</table>\n",
       "</div>"
      ],
      "text/plain": [
       "                                                    title  price  points\n",
       "128268  Trefethen 2005 Estate Cabernet Sauvignon (Oak ...   50.0      97\n",
       "128270        Redmon 2006 Cabernet Sauvignon (St. Helena)   65.0      97\n",
       "82752   Krutz 2006 Stagecoach Vineyard Cabernet Sauvig...   70.0      97\n",
       "121886  Von Strasser 2009 Estate Vineyard Cabernet Sau...   70.0      98\n",
       "81898   Stonestreet 2007 Black Cougar Ridge Cabernet S...   75.0      97\n",
       "39289       Vine Cliff 2007 Cabernet Sauvignon (Oakville)   75.0      98\n",
       "81901   Black Coyote 2007 Reserve Cabernet Sauvignon (...   85.0      97\n",
       "45800   Napa Angel 2006 by Montes Aurelio's Selection ...   90.0      97\n",
       "128265  Trefethen 2005 Reserve Cabernet Sauvignon (Oak...  100.0      99\n",
       "82816   Kathryn Kennedy 2012 Estate Cabernet Sauvignon...  100.0      97\n",
       "128269       Hestan 2006 Cabernet Sauvignon (Napa Valley)  100.0      97\n",
       "107901  Venge 2008 Family Reserve Cabernet Sauvignon (...  125.0      99\n",
       "117027  Caymus 2009 Special Selection Cabernet Sauvign...  130.0      97\n",
       "125832  Janzen 2009 Beckstoffer To Kalon Vineyard Cabe...  135.0      97\n",
       "121885  David Arthur 2009 Elevation 1147 Estate Cabern...  150.0      99\n",
       "118060  Goldschmidt 2006 Plus Game Ranch Single Vineya...  150.0      98\n",
       "117141  Marita's Vineyard 2007 Select Private Reserve ...  150.0      97\n",
       "1565      JCB 2009 No. 1 Cabernet Sauvignon (Napa Valley)  150.0      97\n",
       "39290   Vine Cliff 2007 16 Rows Cabernet Sauvignon (Oa...  150.0      97\n",
       "109839  Macauley 2013 Beckstoffer To Kalon Vineyard Ca...  175.0      97\n",
       "109837  Spottswoode 2013 Family Estate Grown Cabernet ...  185.0      98\n",
       "121889      Gandona 2009 Cabernet Sauvignon (Napa Valley)  190.0      97\n",
       "122559  Stag's Leap Wine Cellars 2008 Cask 23 Estate C...  195.0      97\n",
       "45798     Cardinale 2006 Cabernet Sauvignon (Napa Valley)  200.0     100\n",
       "122558  Shafer 2007 Hillside Select Cabernet Sauvignon...  225.0      97\n",
       "127372     Au Sommet 2008 Cabernet Sauvignon (Atlas Peak)  250.0      97\n",
       "116141  Alpha Omega 2012 Stagecoach Vineyard Cabernet ...  250.0      99\n",
       "116142  Alpha Omega 2012 Beckstoffer Las Piedras Caber...  250.0      98\n",
       "109228    Cardinale 2008 Cabernet Sauvignon (Napa Valley)  250.0      97\n",
       "116146  Alpha Omega 2012 Beckstoffer Georges III Caber...  250.0      97\n",
       "116145  Alpha Omega 2012 Beckstoffer To Kalon Cabernet...  250.0      97\n",
       "116144  Alpha Omega 2012 Beckstoffer Dr. Crane Caberne...  250.0      98\n",
       "116143  Alpha Omega 2012 Beckstoffer Missouri Hopper C...  250.0      98\n",
       "27592   Shafer 2012 Hillside Select Cabernet Sauvignon...  265.0      98\n",
       "41837   Araujo 2007 Eisele Cabernet Sauvignon (Napa Va...  275.0      98\n",
       "38978   Yao Ming 2010 Family Reserve Cabernet Sauvigno...  625.0      98\n",
       "83852   Yao Ming 2009 Family Reserve Cabernet Sauvigno...  625.0      97"
      ]
     },
     "execution_count": 10,
     "metadata": {},
     "output_type": "execute_result"
    }
   ],
   "source": [
    "cali_cab_99 =cali_cab[ cali_cab.points >= 97][['title','price','points']]\n",
    "sorted_cali_cab_99=cali_cab_99.sort_values(by=['price'])\n",
    "sorted_cali_cab_99"
   ]
  },
  {
   "cell_type": "code",
   "execution_count": 11,
   "metadata": {},
   "outputs": [],
   "source": [
    "wash_cab =wine_frame[ wine_frame.province == 'Washington']\n",
    "wash_cab =wash_cab[wash_cab.variety =='Cabernet Sauvignon']"
   ]
  },
  {
   "cell_type": "code",
   "execution_count": 12,
   "metadata": {},
   "outputs": [
    {
     "data": {
      "text/plain": [
       "1251"
      ]
     },
     "execution_count": 12,
     "metadata": {},
     "output_type": "execute_result"
    }
   ],
   "source": [
    "wash_cab_count=wash_cab.country.count()\n",
    "wash_cab_count "
   ]
  },
  {
   "cell_type": "code",
   "execution_count": 13,
   "metadata": {},
   "outputs": [
    {
     "data": {
      "text/plain": [
       "89.35171862509992"
      ]
     },
     "execution_count": 13,
     "metadata": {},
     "output_type": "execute_result"
    }
   ],
   "source": [
    "# What is the average rating?\n",
    "wash_cab.points.mean()"
   ]
  },
  {
   "cell_type": "code",
   "execution_count": 14,
   "metadata": {},
   "outputs": [
    {
     "data": {
      "text/plain": [
       "40.99919549477072"
      ]
     },
     "execution_count": 14,
     "metadata": {},
     "output_type": "execute_result"
    }
   ],
   "source": [
    "# What is the average price?\n",
    "wash_cab.price.mean()"
   ]
  },
  {
   "cell_type": "code",
   "execution_count": 15,
   "metadata": {},
   "outputs": [
    {
     "data": {
      "text/plain": [
       "[(90, 39.56983240223464, 179),\n",
       " (91, 48.927374301675975, 179),\n",
       " (92, 54.58181818181818, 110),\n",
       " (93, 56.05714285714286, 70),\n",
       " (94, 66.87179487179488, 39),\n",
       " (95, 70.4, 20),\n",
       " (96, 81.5, 8),\n",
       " (97, 69.33333333333333, 3),\n",
       " (98, 130.0, 2),\n",
       " (99, 125.0, 1),\n",
       " (100, nan, 0)]"
      ]
     },
     "execution_count": 15,
     "metadata": {},
     "output_type": "execute_result"
    }
   ],
   "source": [
    "# For every California Cab in the Data set, \n",
    "# Returns the Rating,\n",
    "# returns the average price based on Rating, \n",
    "# along with the total number of wines with that rating\n",
    "\n",
    "wash_cab_above_90_avg = []\n",
    "for x in range (90,101):\n",
    "    wash_cab_above_90 =wash_cab[wash_cab.points == x]\n",
    "    wash_cab_above_90_avg.append((x,wash_cab_above_90.price.mean(),wash_cab_above_90.price.count()))\n",
    "    \n",
    "wash_cab_above_90_avg  "
   ]
  },
  {
   "cell_type": "code",
   "execution_count": 16,
   "metadata": {},
   "outputs": [
    {
     "data": {
      "text/html": [
       "<div>\n",
       "<style scoped>\n",
       "    .dataframe tbody tr th:only-of-type {\n",
       "        vertical-align: middle;\n",
       "    }\n",
       "\n",
       "    .dataframe tbody tr th {\n",
       "        vertical-align: top;\n",
       "    }\n",
       "\n",
       "    .dataframe thead th {\n",
       "        text-align: right;\n",
       "    }\n",
       "</style>\n",
       "<table border=\"1\" class=\"dataframe\">\n",
       "  <thead>\n",
       "    <tr style=\"text-align: right;\">\n",
       "      <th></th>\n",
       "      <th>title</th>\n",
       "      <th>price</th>\n",
       "      <th>points</th>\n",
       "    </tr>\n",
       "  </thead>\n",
       "  <tbody>\n",
       "    <tr>\n",
       "      <th>48900</th>\n",
       "      <td>Betz Family 2005 Père de Famille Cabernet Sauv...</td>\n",
       "      <td>55.0</td>\n",
       "      <td>97</td>\n",
       "    </tr>\n",
       "    <tr>\n",
       "      <th>86718</th>\n",
       "      <td>Betz Family 2010 Père de Famille Cabernet Sauv...</td>\n",
       "      <td>68.0</td>\n",
       "      <td>97</td>\n",
       "    </tr>\n",
       "    <tr>\n",
       "      <th>33841</th>\n",
       "      <td>Abeja 2007 Reserve Cabernet Sauvignon (Columbi...</td>\n",
       "      <td>85.0</td>\n",
       "      <td>97</td>\n",
       "    </tr>\n",
       "    <tr>\n",
       "      <th>1556</th>\n",
       "      <td>Quilceda Creek 2008 Cabernet Sauvignon (Columb...</td>\n",
       "      <td>125.0</td>\n",
       "      <td>99</td>\n",
       "    </tr>\n",
       "    <tr>\n",
       "      <th>45799</th>\n",
       "      <td>Quilceda Creek 2006 Cabernet Sauvignon (Columb...</td>\n",
       "      <td>125.0</td>\n",
       "      <td>98</td>\n",
       "    </tr>\n",
       "    <tr>\n",
       "      <th>125829</th>\n",
       "      <td>Quilceda Creek 2009 Cabernet Sauvignon (Columb...</td>\n",
       "      <td>135.0</td>\n",
       "      <td>98</td>\n",
       "    </tr>\n",
       "  </tbody>\n",
       "</table>\n",
       "</div>"
      ],
      "text/plain": [
       "                                                    title  price  points\n",
       "48900   Betz Family 2005 Père de Famille Cabernet Sauv...   55.0      97\n",
       "86718   Betz Family 2010 Père de Famille Cabernet Sauv...   68.0      97\n",
       "33841   Abeja 2007 Reserve Cabernet Sauvignon (Columbi...   85.0      97\n",
       "1556    Quilceda Creek 2008 Cabernet Sauvignon (Columb...  125.0      99\n",
       "45799   Quilceda Creek 2006 Cabernet Sauvignon (Columb...  125.0      98\n",
       "125829  Quilceda Creek 2009 Cabernet Sauvignon (Columb...  135.0      98"
      ]
     },
     "execution_count": 16,
     "metadata": {},
     "output_type": "execute_result"
    }
   ],
   "source": [
    "wash_cab_97 =wash_cab[wash_cab.points >= 97][['title','price','points']]\n",
    "sorted_wash_cab_99=wash_cab_97.sort_values(by=['price'])\n",
    "sorted_wash_cab_99"
   ]
  },
  {
   "attachments": {},
   "cell_type": "markdown",
   "metadata": {},
   "source": []
  },
  {
   "cell_type": "code",
   "execution_count": 17,
   "metadata": {},
   "outputs": [
    {
     "data": {
      "text/html": [
       "<div>\n",
       "<style scoped>\n",
       "    .dataframe tbody tr th:only-of-type {\n",
       "        vertical-align: middle;\n",
       "    }\n",
       "\n",
       "    .dataframe tbody tr th {\n",
       "        vertical-align: top;\n",
       "    }\n",
       "\n",
       "    .dataframe thead th {\n",
       "        text-align: right;\n",
       "    }\n",
       "</style>\n",
       "<table border=\"1\" class=\"dataframe\">\n",
       "  <thead>\n",
       "    <tr style=\"text-align: right;\">\n",
       "      <th></th>\n",
       "      <th>title</th>\n",
       "      <th>points</th>\n",
       "      <th>price</th>\n",
       "    </tr>\n",
       "  </thead>\n",
       "  <tbody>\n",
       "    <tr>\n",
       "      <th>6273</th>\n",
       "      <td>Leonetti Cellar 2010 Cabernet Sauvignon (Walla...</td>\n",
       "      <td>94</td>\n",
       "      <td>90.0</td>\n",
       "    </tr>\n",
       "    <tr>\n",
       "      <th>8116</th>\n",
       "      <td>Leonetti Cellar 2013 Cabernet Sauvignon (Walla...</td>\n",
       "      <td>93</td>\n",
       "      <td>95.0</td>\n",
       "    </tr>\n",
       "    <tr>\n",
       "      <th>57640</th>\n",
       "      <td>Leonetti Cellar 2011 Cabernet Sauvignon (Walla...</td>\n",
       "      <td>92</td>\n",
       "      <td>90.0</td>\n",
       "    </tr>\n",
       "    <tr>\n",
       "      <th>78276</th>\n",
       "      <td>Leonetti Cellar 2012 Cabernet Sauvignon (Walla...</td>\n",
       "      <td>93</td>\n",
       "      <td>95.0</td>\n",
       "    </tr>\n",
       "    <tr>\n",
       "      <th>105216</th>\n",
       "      <td>Leonetti Cellar 1997 Cabernet Sauvignon (Colum...</td>\n",
       "      <td>93</td>\n",
       "      <td>55.0</td>\n",
       "    </tr>\n",
       "    <tr>\n",
       "      <th>129558</th>\n",
       "      <td>Leonetti Cellar 2014 Cabernet Sauvignon (Walla...</td>\n",
       "      <td>93</td>\n",
       "      <td>95.0</td>\n",
       "    </tr>\n",
       "  </tbody>\n",
       "</table>\n",
       "</div>"
      ],
      "text/plain": [
       "                                                    title  points  price\n",
       "6273    Leonetti Cellar 2010 Cabernet Sauvignon (Walla...      94   90.0\n",
       "8116    Leonetti Cellar 2013 Cabernet Sauvignon (Walla...      93   95.0\n",
       "57640   Leonetti Cellar 2011 Cabernet Sauvignon (Walla...      92   90.0\n",
       "78276   Leonetti Cellar 2012 Cabernet Sauvignon (Walla...      93   95.0\n",
       "105216  Leonetti Cellar 1997 Cabernet Sauvignon (Colum...      93   55.0\n",
       "129558  Leonetti Cellar 2014 Cabernet Sauvignon (Walla...      93   95.0"
      ]
     },
     "execution_count": 17,
     "metadata": {},
     "output_type": "execute_result"
    }
   ],
   "source": [
    "wash_cab_leonetti =wash_cab[wash_cab.winery== 'Leonetti Cellar'][['title','points','price']]\n",
    "wash_cab_leonetti\n"
   ]
  },
  {
   "cell_type": "code",
   "execution_count": null,
   "metadata": {},
   "outputs": [],
   "source": []
  },
  {
   "cell_type": "code",
   "execution_count": null,
   "metadata": {},
   "outputs": [],
   "source": []
  }
 ],
 "metadata": {
  "kernelspec": {
   "display_name": "Python 3",
   "language": "python",
   "name": "python3"
  },
  "language_info": {
   "codemirror_mode": {
    "name": "ipython",
    "version": 3
   },
   "file_extension": ".py",
   "mimetype": "text/x-python",
   "name": "python",
   "nbconvert_exporter": "python",
   "pygments_lexer": "ipython3",
   "version": "3.7.2"
  }
 },
 "nbformat": 4,
 "nbformat_minor": 2
}
